{
 "cells": [
  {
   "cell_type": "markdown",
   "metadata": {},
   "source": [
    "# ML Pipeline Preparation\n",
    "Follow the instructions below to help you create your ML pipeline.\n",
    "### 1. Import libraries and load data from database.\n",
    "- Import Python libraries\n",
    "- Load dataset from database with [`read_sql_table`](https://pandas.pydata.org/pandas-docs/stable/generated/pandas.read_sql_table.html)\n",
    "- Define feature and target variables X and Y"
   ]
  },
  {
   "cell_type": "code",
   "execution_count": 1,
   "metadata": {},
   "outputs": [
    {
     "name": "stdout",
     "output_type": "stream",
     "text": [
      "[nltk_data] Downloading package punkt to /root/nltk_data...\n",
      "[nltk_data]   Unzipping tokenizers/punkt.zip.\n",
      "[nltk_data] Downloading package wordnet to /root/nltk_data...\n",
      "[nltk_data]   Unzipping corpora/wordnet.zip.\n"
     ]
    }
   ],
   "source": [
    "# import libraries\n",
    "from sqlalchemy import create_engine\n",
    "import nltk\n",
    "nltk.download(['punkt', 'wordnet'])\n",
    "\n",
    "import re\n",
    "import numpy as np\n",
    "import pandas as pd\n",
    "from nltk.tokenize import word_tokenize\n",
    "from nltk.stem import WordNetLemmatizer\n",
    "from sklearn.metrics import confusion_matrix, classification_report\n",
    "from sklearn.model_selection import train_test_split\n",
    "from sklearn.ensemble import RandomForestClassifier\n",
    "from sklearn.feature_extraction.text import CountVectorizer, TfidfTransformer\n",
    "from sklearn.pipeline import Pipeline\n",
    "from sklearn.model_selection import GridSearchCV\n",
    "from sklearn.multioutput import MultiOutputClassifier\n",
    "import pickle\n"
   ]
  },
  {
   "cell_type": "code",
   "execution_count": 2,
   "metadata": {},
   "outputs": [],
   "source": [
    "# load data from database\n",
    "engine = create_engine('sqlite:///disaster_database.db')\n",
    "df = pd.read_sql_table('table', engine)\n",
    "X = df.message\n",
    "y = df[df.columns[4:]]"
   ]
  },
  {
   "cell_type": "code",
   "execution_count": 3,
   "metadata": {},
   "outputs": [],
   "source": [
    "# df[df.columns[4:]]"
   ]
  },
  {
   "cell_type": "markdown",
   "metadata": {},
   "source": [
    "### 2. Write a tokenization function to process your text data"
   ]
  },
  {
   "cell_type": "code",
   "execution_count": null,
   "metadata": {},
   "outputs": [],
   "source": []
  },
  {
   "cell_type": "code",
   "execution_count": 4,
   "metadata": {},
   "outputs": [],
   "source": [
    "def tokenize(text):\n",
    "    url_regex = 'http[s]?://(?:[a-zA-Z]|[0-9]|[$-_@.&+]|[!*\\(\\),]|(?:%[0-9a-fA-F][0-9a-fA-F]))+'\n",
    "    detected_urls = re.findall(url_regex, text)\n",
    "    for url in detected_urls:\n",
    "        text = text.replace(url, \"urlplaceholder\")\n",
    "\n",
    "    tokens = word_tokenize(text)\n",
    "    lemmatizer = WordNetLemmatizer()\n",
    "\n",
    "    clean_tokens = []\n",
    "    for tok in tokens:\n",
    "        clean_tok = lemmatizer.lemmatize(tok).lower().strip()\n",
    "        clean_tokens.append(clean_tok)\n",
    "\n",
    "    return clean_tokens"
   ]
  },
  {
   "cell_type": "markdown",
   "metadata": {},
   "source": [
    "### 3. Build a machine learning pipeline\n",
    "This machine pipeline should take in the `message` column as input and output classification results on the other 36 categories in the dataset. You may find the [MultiOutputClassifier](http://scikit-learn.org/stable/modules/generated/sklearn.multioutput.MultiOutputClassifier.html) helpful for predicting multiple target variables."
   ]
  },
  {
   "cell_type": "code",
   "execution_count": 5,
   "metadata": {},
   "outputs": [],
   "source": [
    "pipeline = Pipeline([\n",
    "    ('vect', CountVectorizer(tokenizer=tokenize)),\n",
    "    ('tfidf', TfidfTransformer()),\n",
    "    ('clf', MultiOutputClassifier(RandomForestClassifier()))\n",
    "])"
   ]
  },
  {
   "cell_type": "markdown",
   "metadata": {},
   "source": [
    "### 4. Train pipeline\n",
    "- Split data into train and test sets\n",
    "- Train pipeline"
   ]
  },
  {
   "cell_type": "code",
   "execution_count": 6,
   "metadata": {},
   "outputs": [
    {
     "data": {
      "text/plain": [
       "Pipeline(memory=None,\n",
       "     steps=[('vect', CountVectorizer(analyzer='word', binary=False, decode_error='strict',\n",
       "        dtype=<class 'numpy.int64'>, encoding='utf-8', input='content',\n",
       "        lowercase=True, max_df=1.0, max_features=None, min_df=1,\n",
       "        ngram_range=(1, 1), preprocessor=None, stop_words=None,\n",
       "        strip...oob_score=False, random_state=None, verbose=0,\n",
       "            warm_start=False),\n",
       "           n_jobs=1))])"
      ]
     },
     "execution_count": 6,
     "metadata": {},
     "output_type": "execute_result"
    }
   ],
   "source": [
    "X_train, X_test, y_train, y_test = train_test_split(X, y)\n",
    "pipeline.fit(X_train, y_train)"
   ]
  },
  {
   "cell_type": "markdown",
   "metadata": {},
   "source": [
    "### 5. Test your model\n",
    "Report the f1 score, precision and recall for each output category of the dataset. You can do this by iterating through the columns and calling sklearn's `classification_report` on each."
   ]
  },
  {
   "cell_type": "code",
   "execution_count": 7,
   "metadata": {},
   "outputs": [
    {
     "name": "stdout",
     "output_type": "stream",
     "text": [
      "related :\n",
      "                        precision    recall  f1-score   support\n",
      "\n",
      "               related       0.61      0.38      0.47      1508\n",
      "               request       0.83      0.93      0.87      4998\n",
      "                 offer       0.50      0.17      0.25        48\n",
      "\n",
      "           avg / total       0.77      0.79      0.78      6554\n",
      " ............\n",
      "request :\n",
      "                        precision    recall  f1-score   support\n",
      "\n",
      "               related       0.89      0.99      0.93      5443\n",
      "               request       0.84      0.38      0.52      1111\n",
      "\n",
      "           avg / total       0.88      0.88      0.86      6554\n",
      " ............\n",
      "offer :\n",
      "                        precision    recall  f1-score   support\n",
      "\n",
      "               related       1.00      1.00      1.00      6525\n",
      "               request       0.00      0.00      0.00        29\n",
      "\n",
      "           avg / total       0.99      1.00      0.99      6554\n",
      " ............\n",
      "aid_related :\n",
      "                        precision    recall  f1-score   support\n",
      "\n",
      "               related       0.72      0.89      0.80      3838\n",
      "               request       0.76      0.52      0.62      2716\n",
      "\n",
      "           avg / total       0.74      0.73      0.72      6554\n",
      " ............\n",
      "medical_help :\n",
      "                        precision    recall  f1-score   support\n",
      "\n",
      "               related       0.93      1.00      0.96      6039\n",
      "               request       0.64      0.08      0.15       515\n",
      "\n",
      "           avg / total       0.90      0.92      0.90      6554\n",
      " ............\n",
      "medical_products :\n",
      "                        precision    recall  f1-score   support\n",
      "\n",
      "               related       0.95      1.00      0.98      6227\n",
      "               request       0.75      0.10      0.18       327\n",
      "\n",
      "           avg / total       0.94      0.95      0.94      6554\n",
      " ............\n",
      "search_and_rescue :\n",
      "                        precision    recall  f1-score   support\n",
      "\n",
      "               related       0.97      1.00      0.99      6374\n",
      "               request       0.50      0.02      0.04       180\n",
      "\n",
      "           avg / total       0.96      0.97      0.96      6554\n",
      " ............\n",
      "security :\n",
      "                        precision    recall  f1-score   support\n",
      "\n",
      "               related       0.98      1.00      0.99      6427\n",
      "               request       0.00      0.00      0.00       127\n",
      "\n",
      "           avg / total       0.96      0.98      0.97      6554\n",
      " ............\n",
      "military :\n",
      "                        precision    recall  f1-score   support\n",
      "\n",
      "               related       0.97      1.00      0.98      6331\n",
      "               request       0.66      0.09      0.16       223\n",
      "\n",
      "           avg / total       0.96      0.97      0.96      6554\n",
      " ............\n",
      "child_alone :\n",
      "                        precision    recall  f1-score   support\n",
      "\n",
      "               related       1.00      1.00      1.00      6554\n",
      "\n",
      "           avg / total       1.00      1.00      1.00      6554\n",
      " ............\n",
      "water :\n",
      "                        precision    recall  f1-score   support\n",
      "\n",
      "               related       0.95      1.00      0.97      6144\n",
      "               request       0.91      0.14      0.24       410\n",
      "\n",
      "           avg / total       0.94      0.95      0.93      6554\n",
      " ............\n",
      "food :\n",
      "                        precision    recall  f1-score   support\n",
      "\n",
      "               related       0.92      0.99      0.96      5843\n",
      "               request       0.87      0.33      0.48       711\n",
      "\n",
      "           avg / total       0.92      0.92      0.91      6554\n",
      " ............\n",
      "shelter :\n",
      "                        precision    recall  f1-score   support\n",
      "\n",
      "               related       0.93      1.00      0.96      5999\n",
      "               request       0.81      0.19      0.31       555\n",
      "\n",
      "           avg / total       0.92      0.93      0.91      6554\n",
      " ............\n",
      "clothing :\n",
      "                        precision    recall  f1-score   support\n",
      "\n",
      "               related       0.99      1.00      0.99      6443\n",
      "               request       0.86      0.17      0.29       111\n",
      "\n",
      "           avg / total       0.98      0.99      0.98      6554\n",
      " ............\n",
      "money :\n",
      "                        precision    recall  f1-score   support\n",
      "\n",
      "               related       0.98      1.00      0.99      6411\n",
      "               request       0.82      0.06      0.12       143\n",
      "\n",
      "           avg / total       0.98      0.98      0.97      6554\n",
      " ............\n",
      "missing_people :\n",
      "                        precision    recall  f1-score   support\n",
      "\n",
      "               related       0.99      1.00      0.99      6479\n",
      "               request       1.00      0.01      0.03        75\n",
      "\n",
      "           avg / total       0.99      0.99      0.98      6554\n",
      " ............\n",
      "refugees :\n",
      "                        precision    recall  f1-score   support\n",
      "\n",
      "               related       0.97      1.00      0.98      6332\n",
      "               request       0.57      0.04      0.07       222\n",
      "\n",
      "           avg / total       0.95      0.97      0.95      6554\n",
      " ............\n",
      "death :\n",
      "                        precision    recall  f1-score   support\n",
      "\n",
      "               related       0.96      1.00      0.98      6248\n",
      "               request       0.76      0.14      0.24       306\n",
      "\n",
      "           avg / total       0.95      0.96      0.94      6554\n",
      " ............\n",
      "other_aid :\n",
      "                        precision    recall  f1-score   support\n",
      "\n",
      "               related       0.87      1.00      0.93      5711\n",
      "               request       0.49      0.03      0.06       843\n",
      "\n",
      "           avg / total       0.82      0.87      0.82      6554\n",
      " ............\n",
      "infrastructure_related :\n",
      "                        precision    recall  f1-score   support\n",
      "\n",
      "               related       0.94      1.00      0.97      6154\n",
      "               request       0.56      0.01      0.02       400\n",
      "\n",
      "           avg / total       0.92      0.94      0.91      6554\n",
      " ............\n",
      "transport :\n",
      "                        precision    recall  f1-score   support\n",
      "\n",
      "               related       0.96      1.00      0.98      6270\n",
      "               request       0.78      0.05      0.09       284\n",
      "\n",
      "           avg / total       0.95      0.96      0.94      6554\n",
      " ............\n",
      "buildings :\n",
      "                        precision    recall  f1-score   support\n",
      "\n",
      "               related       0.95      1.00      0.98      6220\n",
      "               request       0.91      0.10      0.17       334\n",
      "\n",
      "           avg / total       0.95      0.95      0.94      6554\n",
      " ............\n",
      "electricity :\n",
      "                        precision    recall  f1-score   support\n",
      "\n",
      "               related       0.98      1.00      0.99      6435\n",
      "               request       1.00      0.02      0.03       119\n",
      "\n",
      "           avg / total       0.98      0.98      0.97      6554\n",
      " ............\n",
      "tools :\n",
      "                        precision    recall  f1-score   support\n",
      "\n",
      "               related       0.99      1.00      1.00      6516\n",
      "               request       0.00      0.00      0.00        38\n",
      "\n",
      "           avg / total       0.99      0.99      0.99      6554\n",
      " ............\n",
      "hospitals :\n",
      "                        precision    recall  f1-score   support\n",
      "\n",
      "               related       0.99      1.00      0.99      6481\n",
      "               request       0.00      0.00      0.00        73\n",
      "\n",
      "           avg / total       0.98      0.99      0.98      6554\n",
      " ............\n",
      "shops :\n",
      "                        precision    recall  f1-score   support\n",
      "\n",
      "               related       1.00      1.00      1.00      6530\n",
      "               request       0.00      0.00      0.00        24\n",
      "\n",
      "           avg / total       0.99      1.00      0.99      6554\n",
      " ............\n",
      "aid_centers :\n",
      "                        precision    recall  f1-score   support\n",
      "\n",
      "               related       0.99      1.00      0.99      6486\n",
      "               request       0.00      0.00      0.00        68\n",
      "\n",
      "           avg / total       0.98      0.99      0.98      6554\n",
      " ............\n",
      "other_infrastructure :\n",
      "                        precision    recall  f1-score   support\n",
      "\n",
      "               related       0.96      1.00      0.98      6284\n",
      "               request       0.33      0.01      0.01       270\n",
      "\n",
      "           avg / total       0.93      0.96      0.94      6554\n",
      " ............\n",
      "weather_related :\n",
      "                        precision    recall  f1-score   support\n",
      "\n",
      "               related       0.84      0.97      0.90      4719\n",
      "               request       0.87      0.51      0.64      1835\n",
      "\n",
      "           avg / total       0.84      0.84      0.83      6554\n",
      " ............\n",
      "floods :\n",
      "                        precision    recall  f1-score   support\n",
      "\n",
      "               related       0.94      1.00      0.97      6014\n",
      "               request       0.91      0.33      0.48       540\n",
      "\n",
      "           avg / total       0.94      0.94      0.93      6554\n",
      " ............\n",
      "storm :\n",
      "                        precision    recall  f1-score   support\n",
      "\n",
      "               related       0.94      0.99      0.96      5916\n",
      "               request       0.80      0.38      0.52       638\n",
      "\n",
      "           avg / total       0.92      0.93      0.92      6554\n",
      " ............\n",
      "fire :\n",
      "                        precision    recall  f1-score   support\n",
      "\n",
      "               related       0.99      1.00      1.00      6490\n",
      "               request       1.00      0.05      0.09        64\n",
      "\n",
      "           avg / total       0.99      0.99      0.99      6554\n",
      " ............\n",
      "earthquake :\n",
      "                        precision    recall  f1-score   support\n",
      "\n",
      "               related       0.95      0.99      0.97      5937\n",
      "               request       0.88      0.51      0.65       617\n",
      "\n",
      "           avg / total       0.94      0.95      0.94      6554\n",
      " ............\n",
      "cold :\n",
      "                        precision    recall  f1-score   support\n",
      "\n",
      "               related       0.98      1.00      0.99      6422\n",
      "               request       0.79      0.08      0.15       132\n",
      "\n",
      "           avg / total       0.98      0.98      0.97      6554\n",
      " ............\n",
      "other_weather :\n",
      "                        precision    recall  f1-score   support\n",
      "\n",
      "               related       0.95      1.00      0.97      6226\n",
      "               request       0.29      0.01      0.01       328\n",
      "\n",
      "           avg / total       0.92      0.95      0.93      6554\n",
      " ............\n",
      "direct_report :\n",
      "                        precision    recall  f1-score   support\n",
      "\n",
      "               related       0.86      0.98      0.91      5326\n",
      "               request       0.76      0.31      0.44      1228\n",
      "\n",
      "           avg / total       0.84      0.85      0.82      6554\n",
      " ............\n"
     ]
    },
    {
     "name": "stderr",
     "output_type": "stream",
     "text": [
      "/opt/conda/lib/python3.6/site-packages/sklearn/metrics/classification.py:1428: UserWarning: labels size, 3, does not match size of target_names, 36\n",
      "  .format(len(labels), len(target_names))\n",
      "/opt/conda/lib/python3.6/site-packages/sklearn/metrics/classification.py:1428: UserWarning: labels size, 2, does not match size of target_names, 36\n",
      "  .format(len(labels), len(target_names))\n",
      "/opt/conda/lib/python3.6/site-packages/sklearn/metrics/classification.py:1135: UndefinedMetricWarning: Precision and F-score are ill-defined and being set to 0.0 in labels with no predicted samples.\n",
      "  'precision', 'predicted', average, warn_for)\n",
      "/opt/conda/lib/python3.6/site-packages/sklearn/metrics/classification.py:1428: UserWarning: labels size, 1, does not match size of target_names, 36\n",
      "  .format(len(labels), len(target_names))\n"
     ]
    }
   ],
   "source": [
    "y_pred = pipeline.predict(X_test)\n",
    "category_names = y.columns\n",
    "for i in range(36):\n",
    "    print(y_test.columns[i], ':')\n",
    "    print(classification_report(y_test.iloc[:,i], y_pred[:,i], target_names=category_names),'............')"
   ]
  },
  {
   "cell_type": "markdown",
   "metadata": {},
   "source": [
    "### 6. Improve your model\n",
    "Use grid search to find better parameters. "
   ]
  },
  {
   "cell_type": "code",
   "execution_count": 8,
   "metadata": {},
   "outputs": [
    {
     "data": {
      "text/plain": [
       "{'memory': None,\n",
       " 'steps': [('vect',\n",
       "   CountVectorizer(analyzer='word', binary=False, decode_error='strict',\n",
       "           dtype=<class 'numpy.int64'>, encoding='utf-8', input='content',\n",
       "           lowercase=True, max_df=1.0, max_features=None, min_df=1,\n",
       "           ngram_range=(1, 1), preprocessor=None, stop_words=None,\n",
       "           strip_accents=None, token_pattern='(?u)\\\\b\\\\w\\\\w+\\\\b',\n",
       "           tokenizer=<function tokenize at 0x7f70adddbd90>, vocabulary=None)),\n",
       "  ('tfidf',\n",
       "   TfidfTransformer(norm='l2', smooth_idf=True, sublinear_tf=False, use_idf=True)),\n",
       "  ('clf',\n",
       "   MultiOutputClassifier(estimator=RandomForestClassifier(bootstrap=True, class_weight=None, criterion='gini',\n",
       "               max_depth=None, max_features='auto', max_leaf_nodes=None,\n",
       "               min_impurity_decrease=0.0, min_impurity_split=None,\n",
       "               min_samples_leaf=1, min_samples_split=2,\n",
       "               min_weight_fraction_leaf=0.0, n_estimators=10, n_jobs=1,\n",
       "               oob_score=False, random_state=None, verbose=0,\n",
       "               warm_start=False),\n",
       "              n_jobs=1))],\n",
       " 'vect': CountVectorizer(analyzer='word', binary=False, decode_error='strict',\n",
       "         dtype=<class 'numpy.int64'>, encoding='utf-8', input='content',\n",
       "         lowercase=True, max_df=1.0, max_features=None, min_df=1,\n",
       "         ngram_range=(1, 1), preprocessor=None, stop_words=None,\n",
       "         strip_accents=None, token_pattern='(?u)\\\\b\\\\w\\\\w+\\\\b',\n",
       "         tokenizer=<function tokenize at 0x7f70adddbd90>, vocabulary=None),\n",
       " 'tfidf': TfidfTransformer(norm='l2', smooth_idf=True, sublinear_tf=False, use_idf=True),\n",
       " 'clf': MultiOutputClassifier(estimator=RandomForestClassifier(bootstrap=True, class_weight=None, criterion='gini',\n",
       "             max_depth=None, max_features='auto', max_leaf_nodes=None,\n",
       "             min_impurity_decrease=0.0, min_impurity_split=None,\n",
       "             min_samples_leaf=1, min_samples_split=2,\n",
       "             min_weight_fraction_leaf=0.0, n_estimators=10, n_jobs=1,\n",
       "             oob_score=False, random_state=None, verbose=0,\n",
       "             warm_start=False),\n",
       "            n_jobs=1),\n",
       " 'vect__analyzer': 'word',\n",
       " 'vect__binary': False,\n",
       " 'vect__decode_error': 'strict',\n",
       " 'vect__dtype': numpy.int64,\n",
       " 'vect__encoding': 'utf-8',\n",
       " 'vect__input': 'content',\n",
       " 'vect__lowercase': True,\n",
       " 'vect__max_df': 1.0,\n",
       " 'vect__max_features': None,\n",
       " 'vect__min_df': 1,\n",
       " 'vect__ngram_range': (1, 1),\n",
       " 'vect__preprocessor': None,\n",
       " 'vect__stop_words': None,\n",
       " 'vect__strip_accents': None,\n",
       " 'vect__token_pattern': '(?u)\\\\b\\\\w\\\\w+\\\\b',\n",
       " 'vect__tokenizer': <function __main__.tokenize(text)>,\n",
       " 'vect__vocabulary': None,\n",
       " 'tfidf__norm': 'l2',\n",
       " 'tfidf__smooth_idf': True,\n",
       " 'tfidf__sublinear_tf': False,\n",
       " 'tfidf__use_idf': True,\n",
       " 'clf__estimator__bootstrap': True,\n",
       " 'clf__estimator__class_weight': None,\n",
       " 'clf__estimator__criterion': 'gini',\n",
       " 'clf__estimator__max_depth': None,\n",
       " 'clf__estimator__max_features': 'auto',\n",
       " 'clf__estimator__max_leaf_nodes': None,\n",
       " 'clf__estimator__min_impurity_decrease': 0.0,\n",
       " 'clf__estimator__min_impurity_split': None,\n",
       " 'clf__estimator__min_samples_leaf': 1,\n",
       " 'clf__estimator__min_samples_split': 2,\n",
       " 'clf__estimator__min_weight_fraction_leaf': 0.0,\n",
       " 'clf__estimator__n_estimators': 10,\n",
       " 'clf__estimator__n_jobs': 1,\n",
       " 'clf__estimator__oob_score': False,\n",
       " 'clf__estimator__random_state': None,\n",
       " 'clf__estimator__verbose': 0,\n",
       " 'clf__estimator__warm_start': False,\n",
       " 'clf__estimator': RandomForestClassifier(bootstrap=True, class_weight=None, criterion='gini',\n",
       "             max_depth=None, max_features='auto', max_leaf_nodes=None,\n",
       "             min_impurity_decrease=0.0, min_impurity_split=None,\n",
       "             min_samples_leaf=1, min_samples_split=2,\n",
       "             min_weight_fraction_leaf=0.0, n_estimators=10, n_jobs=1,\n",
       "             oob_score=False, random_state=None, verbose=0,\n",
       "             warm_start=False),\n",
       " 'clf__n_jobs': 1}"
      ]
     },
     "execution_count": 8,
     "metadata": {},
     "output_type": "execute_result"
    }
   ],
   "source": [
    "pipeline.get_params()"
   ]
  },
  {
   "cell_type": "code",
   "execution_count": 9,
   "metadata": {},
   "outputs": [],
   "source": [
    "parameters = {   \n",
    "#     'vect__ngram_range': ((1, 1),(1,2)),\n",
    "#     'vect__max_df': (0.5, 0.75, 1.0),\n",
    "#     'vect__max_features': (None, 5000, 10000),\n",
    "#     'tfidf__use_idf': (True, False),\n",
    "    'clf__estimator__n_estimators': [50, 100, 150],\n",
    "    'clf__estimator__min_samples_split': [2, 3, 4],}\n",
    "\n",
    "cv = GridSearchCV(pipeline, param_grid=parameters, n_jobs=4, verbose=2)"
   ]
  },
  {
   "cell_type": "code",
   "execution_count": null,
   "metadata": {},
   "outputs": [
    {
     "name": "stdout",
     "output_type": "stream",
     "text": [
      "Fitting 3 folds for each of 9 candidates, totalling 27 fits\n",
      "[CV] clf__estimator__min_samples_split=2, clf__estimator__n_estimators=50 \n",
      "[CV] clf__estimator__min_samples_split=2, clf__estimator__n_estimators=50 \n",
      "[CV] clf__estimator__min_samples_split=2, clf__estimator__n_estimators=50 \n",
      "[CV] clf__estimator__min_samples_split=2, clf__estimator__n_estimators=100 \n",
      "[CV]  clf__estimator__min_samples_split=2, clf__estimator__n_estimators=50, total=15.6min\n",
      "[CV] clf__estimator__min_samples_split=2, clf__estimator__n_estimators=100 \n",
      "[CV]  clf__estimator__min_samples_split=2, clf__estimator__n_estimators=50, total=15.7min\n",
      "[CV] clf__estimator__min_samples_split=2, clf__estimator__n_estimators=100 \n",
      "[CV]  clf__estimator__min_samples_split=2, clf__estimator__n_estimators=50, total=15.8min\n",
      "[CV] clf__estimator__min_samples_split=2, clf__estimator__n_estimators=150 \n",
      "[CV]  clf__estimator__min_samples_split=2, clf__estimator__n_estimators=100, total=31.3min\n",
      "[CV] clf__estimator__min_samples_split=2, clf__estimator__n_estimators=150 \n",
      "[CV]  clf__estimator__min_samples_split=2, clf__estimator__n_estimators=100, total=31.3min\n",
      "[CV] clf__estimator__min_samples_split=2, clf__estimator__n_estimators=150 \n",
      "[CV]  clf__estimator__min_samples_split=2, clf__estimator__n_estimators=100, total=31.9min\n",
      "[CV] clf__estimator__min_samples_split=3, clf__estimator__n_estimators=50 \n",
      "[CV]  clf__estimator__min_samples_split=3, clf__estimator__n_estimators=50, total=14.5min\n",
      "[CV] clf__estimator__min_samples_split=3, clf__estimator__n_estimators=50 \n",
      "[CV]  clf__estimator__min_samples_split=2, clf__estimator__n_estimators=150, total=47.3min\n",
      "[CV] clf__estimator__min_samples_split=3, clf__estimator__n_estimators=50 \n"
     ]
    }
   ],
   "source": [
    "cv.fit(X_train, y_train)"
   ]
  },
  {
   "cell_type": "code",
   "execution_count": null,
   "metadata": {},
   "outputs": [],
   "source": [
    "cv.grid_scores_"
   ]
  },
  {
   "cell_type": "code",
   "execution_count": null,
   "metadata": {},
   "outputs": [],
   "source": [
    "cv.best_params_"
   ]
  },
  {
   "cell_type": "code",
   "execution_count": null,
   "metadata": {},
   "outputs": [],
   "source": [
    "optimised_model = cv.best_estimator_\n",
    "optimised_model"
   ]
  },
  {
   "cell_type": "markdown",
   "metadata": {},
   "source": [
    "### 7. Test your model\n",
    "Show the accuracy, precision, and recall of the tuned model.  \n",
    "\n",
    "Since this project focuses on code quality, process, and  pipelines, there is no minimum performance metric needed to pass. However, make sure to fine tune your models for accuracy, precision and recall to make your project stand out - especially for your portfolio!"
   ]
  },
  {
   "cell_type": "code",
   "execution_count": 1,
   "metadata": {},
   "outputs": [
    {
     "ename": "NameError",
     "evalue": "name 'df' is not defined",
     "output_type": "error",
     "traceback": [
      "\u001b[0;31m---------------------------------------------------------------------------\u001b[0m",
      "\u001b[0;31mNameError\u001b[0m                                 Traceback (most recent call last)",
      "\u001b[0;32m<ipython-input-1-00cf07b74dcd>\u001b[0m in \u001b[0;36m<module>\u001b[0;34m()\u001b[0m\n\u001b[0;32m----> 1\u001b[0;31m \u001b[0mdf\u001b[0m\u001b[0;34m\u001b[0m\u001b[0m\n\u001b[0m",
      "\u001b[0;31mNameError\u001b[0m: name 'df' is not defined"
     ]
    }
   ],
   "source": [
    "y_pred = optimised_model.predict(X_test)\n",
    "\n",
    "for i in range(36):\n",
    "    print(y_test.columns[i], ':')\n",
    "    print(classification_report(y_test.iloc[:,i], y_pred[:,i]), '...................................................')"
   ]
  },
  {
   "cell_type": "markdown",
   "metadata": {},
   "source": [
    "### 8. Try improving your model further. Here are a few ideas:\n",
    "* try other machine learning algorithms\n",
    "* add other features besides the TF-IDF"
   ]
  },
  {
   "cell_type": "code",
   "execution_count": null,
   "metadata": {},
   "outputs": [],
   "source": []
  },
  {
   "cell_type": "markdown",
   "metadata": {},
   "source": [
    "### 9. Export your model as a pickle file"
   ]
  },
  {
   "cell_type": "code",
   "execution_count": null,
   "metadata": {},
   "outputs": [],
   "source": [
    "with open('Disaster_MLclassifier.pkl', 'wb') as file:\n",
    "    pickle.dump(optimised_model, file)"
   ]
  },
  {
   "cell_type": "markdown",
   "metadata": {},
   "source": [
    "### 10. Use this notebook to complete `train.py`\n",
    "Use the template file attached in the Resources folder to write a script that runs the steps above to create a database and export a model based on a new dataset specified by the user."
   ]
  },
  {
   "cell_type": "code",
   "execution_count": null,
   "metadata": {},
   "outputs": [],
   "source": []
  }
 ],
 "metadata": {
  "kernelspec": {
   "display_name": "Python 3",
   "language": "python",
   "name": "python3"
  },
  "language_info": {
   "codemirror_mode": {
    "name": "ipython",
    "version": 3
   },
   "file_extension": ".py",
   "mimetype": "text/x-python",
   "name": "python",
   "nbconvert_exporter": "python",
   "pygments_lexer": "ipython3",
   "version": "3.6.3"
  }
 },
 "nbformat": 4,
 "nbformat_minor": 2
}
